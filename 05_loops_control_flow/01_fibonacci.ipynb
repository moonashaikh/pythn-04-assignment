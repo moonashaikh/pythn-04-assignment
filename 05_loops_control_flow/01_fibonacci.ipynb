{
  "nbformat": 4,
  "nbformat_minor": 0,
  "metadata": {
    "colab": {
      "provenance": []
    },
    "kernelspec": {
      "name": "python3",
      "display_name": "Python 3"
    },
    "language_info": {
      "name": "python"
    }
  },
  "cells": [
    {
      "cell_type": "code",
      "execution_count": 1,
      "metadata": {
        "colab": {
          "base_uri": "https://localhost:8080/"
        },
        "id": "HsTAxVol70L2",
        "outputId": "7231e18d-7733-411f-d941-b74932b43557"
      },
      "outputs": [
        {
          "output_type": "stream",
          "name": "stdout",
          "text": [
            "Enter the maximum value: 50\n",
            "0\n",
            "1\n",
            "1\n",
            "2\n",
            "3\n",
            "5\n",
            "8\n",
            "13\n",
            "21\n",
            "34\n"
          ]
        }
      ],
      "source": [
        "# Write a program to print terms in the Fibonacci sequence up to a maximum value.\n",
        "\n",
        "def fibonacci_upto_max_value(max_value):\n",
        "    # Initialize the first two terms\n",
        "    a, b = 0, 1\n",
        "    # Continue generating terms until the next term exceeds max_value\n",
        "    while a <= max_value:\n",
        "        print(a)\n",
        "        a, b = b, a + b\n",
        "\n",
        "# Example usage\n",
        "max_value = int(input(\"Enter the maximum value: \"))\n",
        "fibonacci_upto_max_value(max_value)\n"
      ]
    }
  ]
}