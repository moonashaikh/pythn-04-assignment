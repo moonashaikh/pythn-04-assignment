{
  "nbformat": 4,
  "nbformat_minor": 0,
  "metadata": {
    "colab": {
      "provenance": []
    },
    "kernelspec": {
      "name": "python3",
      "display_name": "Python 3"
    },
    "language_info": {
      "name": "python"
    }
  },
  "cells": [
    {
      "cell_type": "code",
      "execution_count": null,
      "metadata": {
        "colab": {
          "base_uri": "https://localhost:8080/"
        },
        "id": "_2CfCpt-6z27",
        "outputId": "e0894bae-b4f4-4ea0-cd7f-ab4f7086a284"
      },
      "outputs": [
        {
          "output_type": "stream",
          "name": "stdout",
          "text": [
            "I am thinking of a number between 1 and 99...\n",
            "Enter a guess: 34\n",
            "Your guess is too low\n",
            "\n",
            "Enter a new guess: 80\n",
            "Your guess is too high\n",
            "\n",
            "Enter a new guess: 70\n",
            "Your guess is too high\n",
            "\n",
            "Enter a new guess: 60\n",
            "Your guess is too high\n",
            "\n",
            "Enter a new guess: 55\n",
            "Your guess is too high\n",
            "\n",
            "Enter a new guess: 50\n",
            "Your guess is too high\n",
            "\n",
            "Enter a new guess: 48\n",
            "Your guess is too high\n",
            "\n"
          ]
        }
      ],
      "source": [
        "# Guess My Number\n",
        "import random\n",
        "\n",
        "def main():\n",
        "    # Generate the secret number at random!\n",
        "    secret_number = random.randint(1, 99)\n",
        "\n",
        "    print(\"I am thinking of a number between 1 and 99...\")\n",
        "\n",
        "    # Get user's guess\n",
        "    guess = int(input(\"Enter a guess: \"))\n",
        "    # True if guess is not equal to secret number\n",
        "    while guess != secret_number:\n",
        "        if guess < secret_number:  # If-statement is True if guess is less than secret number\n",
        "            print(\"Your guess is too low\")\n",
        "        else:\n",
        "            print(\"Your guess is too high\")\n",
        "\n",
        "        print() # Print an empty line to tidy up the console for new guesses\n",
        "        guess = int(input(\"Enter a new guess: \"))  # Get a new guess from the user\n",
        "\n",
        "    print(\"Congrats! The number was: \" + str(secret_number))\n",
        "\n",
        "if __name__ == '__main__':\n",
        "    main()"
      ]
    }
  ]
}