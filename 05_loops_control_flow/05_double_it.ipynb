{
  "nbformat": 4,
  "nbformat_minor": 0,
  "metadata": {
    "colab": {
      "provenance": []
    },
    "kernelspec": {
      "name": "python3",
      "display_name": "Python 3"
    },
    "language_info": {
      "name": "python"
    }
  },
  "cells": [
    {
      "cell_type": "code",
      "execution_count": 1,
      "metadata": {
        "colab": {
          "base_uri": "https://localhost:8080/"
        },
        "id": "66znXRXu-3fm",
        "outputId": "e7994344-c266-4d4f-ca1e-6292aeeda503"
      },
      "outputs": [
        {
          "output_type": "stream",
          "name": "stdout",
          "text": [
            "Enter a number: 5\n",
            "Doubled value: 10.0\n",
            "Doubled value: 20.0\n",
            "Doubled value: 40.0\n",
            "Doubled value: 80.0\n",
            "Doubled value: 160.0\n",
            "Final value: 160.0\n"
          ]
        }
      ],
      "source": [
        "# Function to double the number until it reaches or exceeds 100\n",
        "def double_until_100():\n",
        "    # Prompt the user to enter a number\n",
        "    number = float(input(\"Enter a number: \"))\n",
        "    # Loop to double the number until it reaches or exceeds 100\n",
        "    while number < 100:\n",
        "        number *= 2\n",
        "        print(f\"Doubled value: {number}\")\n",
        "    print(\"Final value:\", number)\n",
        "\n",
        "# Call the function\n",
        "double_until_100()\n"
      ]
    }
  ]
}