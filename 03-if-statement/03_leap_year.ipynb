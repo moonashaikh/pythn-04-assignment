{
  "nbformat": 4,
  "nbformat_minor": 0,
  "metadata": {
    "colab": {
      "provenance": []
    },
    "kernelspec": {
      "name": "python3",
      "display_name": "Python 3"
    },
    "language_info": {
      "name": "python"
    }
  },
  "cells": [
    {
      "cell_type": "code",
      "execution_count": 2,
      "metadata": {
        "colab": {
          "base_uri": "https://localhost:8080/"
        },
        "id": "FrMgE4sQsTVd",
        "outputId": "ec903493-1a5a-48c5-9dc6-e7c3af788229"
      },
      "outputs": [
        {
          "output_type": "stream",
          "name": "stdout",
          "text": [
            "Enter a year: 2022\n",
            "That's not a leap year.\n"
          ]
        }
      ],
      "source": [
        "#Write a program that reads a year from the user and tells whether a given year is a leap year or not.\n",
        "# Function to check if a year is a leap year\n",
        "def check_leap_year(year):\n",
        "    if (year % 4 == 0 and year % 100 != 0) or (year % 400 == 0):\n",
        "        print(\"That's a leap year!\")\n",
        "    else:\n",
        "        print(\"That's not a leap year.\")\n",
        "\n",
        "# Read year from user input\n",
        "year = int(input(\"Enter a year: \"))\n",
        "\n",
        "# Call the function to check if it's a leap year\n",
        "check_leap_year(year)\n"
      ]
    }
  ]
}