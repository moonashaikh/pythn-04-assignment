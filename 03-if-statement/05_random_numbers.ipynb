{
  "nbformat": 4,
  "nbformat_minor": 0,
  "metadata": {
    "colab": {
      "provenance": []
    },
    "kernelspec": {
      "name": "python3",
      "display_name": "Python 3"
    },
    "language_info": {
      "name": "python"
    }
  },
  "cells": [
    {
      "cell_type": "code",
      "execution_count": 5,
      "metadata": {
        "colab": {
          "base_uri": "https://localhost:8080/"
        },
        "id": "x1m1Zj6owIgY",
        "outputId": "78815cc6-8889-4f6a-b602-bc286d9f19a8"
      },
      "outputs": [
        {
          "output_type": "stream",
          "name": "stdout",
          "text": [
            "79\n",
            "97\n",
            "49\n",
            "55\n",
            "84\n",
            "10\n",
            "70\n",
            "14\n",
            "68\n",
            "74\n"
          ]
        }
      ],
      "source": [
        "\n",
        "import random\n",
        "\n",
        "\n",
        "def main():\n",
        "   import random\n",
        "\n",
        "# Loop to print 10 random numbers in the range 1 to 100\n",
        "for _ in range(10):\n",
        "    print(random.randint(1, 100))\n",
        "\n",
        "\n",
        "if __name__ == '__main__':\n",
        "    main()"
      ]
    }
  ]
}