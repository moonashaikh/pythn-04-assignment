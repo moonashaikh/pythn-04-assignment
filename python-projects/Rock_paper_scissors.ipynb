{
  "nbformat": 4,
  "nbformat_minor": 0,
  "metadata": {
    "colab": {
      "provenance": []
    },
    "kernelspec": {
      "name": "python3",
      "display_name": "Python 3"
    },
    "language_info": {
      "name": "python"
    }
  },
  "cells": [
    {
      "cell_type": "code",
      "execution_count": 25,
      "metadata": {
        "colab": {
          "base_uri": "https://localhost:8080/",
          "height": 106
        },
        "id": "wAfmLeaMPgTF",
        "outputId": "1f58b03e-e2f2-41a1-c319-635d7a674058"
      },
      "outputs": [
        {
          "output_type": "error",
          "ename": "SyntaxError",
          "evalue": "invalid syntax (<ipython-input-25-b52d46dcdf20>, line 2)",
          "traceback": [
            "\u001b[0;36m  File \u001b[0;32m\"<ipython-input-25-b52d46dcdf20>\"\u001b[0;36m, line \u001b[0;32m2\u001b[0m\n\u001b[0;31m    game_images = [Rock:any , Paper, Scissors]\u001b[0m\n\u001b[0m                       ^\u001b[0m\n\u001b[0;31mSyntaxError\u001b[0m\u001b[0;31m:\u001b[0m invalid syntax\n"
          ]
        }
      ],
      "source": [
        "import random\n",
        "\n",
        "\n",
        "user_choice = int(input(\"Enter your Choices: type 0 for Rock , 1 for Paper  , 2 for Scissors \"))\n",
        "game_images = [Rock , Paper, Scissors]\n",
        "\n",
        "if user_choice >=3 or user_choice < 0:\n",
        "   print(\"You entered invalid number , You lose\")\n",
        "\n",
        "else:\n",
        "    print(game_images , [user_choice])\n",
        "    # Let the computer make a choice\n",
        "    computer_choice = random.randint(0,2)\n",
        "\n",
        "    # Display the choices\n",
        "print(\"computer chose:\")\n",
        "print(game_images[computer_choice])\n",
        "\n",
        "    # Determine the winner\n",
        "if  computer_choice == user_choice:\n",
        "        print(\"It's a Draw!\")\n",
        "elif computer_choice == 0 and user_choice==2:\n",
        "        print(\"You lose!\")\n",
        "\n",
        "elif user_choice == 0 and computer_choice==2:\n",
        "        print(\"You win!\")\n",
        "\n",
        "elif  computer_choice > user_choice:\n",
        "        print(\"You lose!\")\n",
        "elif user_choice > computer_choice:\n",
        "         print(\"You win!\")\n",
        "\n",
        ""
      ]
    }
  ]
}