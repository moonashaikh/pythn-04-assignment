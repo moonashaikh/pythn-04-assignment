{
  "nbformat": 4,
  "nbformat_minor": 0,
  "metadata": {
    "colab": {
      "provenance": []
    },
    "kernelspec": {
      "name": "python3",
      "display_name": "Python 3"
    },
    "language_info": {
      "name": "python"
    }
  },
  "cells": [
    {
      "cell_type": "code",
      "execution_count": 7,
      "metadata": {
        "colab": {
          "base_uri": "https://localhost:8080/"
        },
        "id": "XsMxWb2iBuvB",
        "outputId": "30e5bf24-b48d-42e1-dbd4-073337887038"
      },
      "outputs": [
        {
          "output_type": "stream",
          "name": "stdout",
          "text": [
            "Guess a number between 1 and 100: 6\n",
            "Too low! Try again.\n",
            "Guess a number between 1 and 100: 78\n",
            "Too high! Try again.\n",
            "Guess a number between 1 and 100: 45\n",
            "Too high! Try again.\n",
            "Guess a number between 1 and 100: 34\n",
            "Too low! Try again.\n",
            "Guess a number between 1 and 100: 38\n",
            "Too low! Try again.\n",
            "Guess a number between 1 and 100: 40\n",
            "Too low! Try again.\n",
            "Guess a number between 1 and 100: 41\n",
            "Too low! Try again.\n",
            "Guess a number between 1 and 100: 42\n",
            "Congratulations! You guessed the number in 8 attempts.\n"
          ]
        }
      ],
      "source": [
        "import random\n",
        "no_to_guess = random.randint(1, 100)\n",
        "\n",
        "attempts = 0\n",
        "while True:\n",
        "    try:\n",
        "        guess = int(input(\"Guess a number between 1 and 100: \"))\n",
        "        attempts += 1\n",
        "        if guess < no_to_guess:\n",
        "            print(\"Too low! Try again.\")\n",
        "        elif guess > no_to_guess:\n",
        "            print(\"Too high! Try again.\")\n",
        "        else:\n",
        "            print(f\"Congratulations! You guessed the number in {attempts} attempts.\")\n",
        "            break\n",
        "    except ValueError:\n",
        "        print(\"Please enter a valid integer.\")\n"
      ]
    }
  ]
}