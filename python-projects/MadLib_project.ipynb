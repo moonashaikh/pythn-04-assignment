{
  "nbformat": 4,
  "nbformat_minor": 0,
  "metadata": {
    "colab": {
      "provenance": []
    },
    "kernelspec": {
      "name": "python3",
      "display_name": "Python 3"
    },
    "language_info": {
      "name": "python"
    }
  },
  "cells": [
    {
      "cell_type": "code",
      "execution_count": 1,
      "metadata": {
        "colab": {
          "base_uri": "https://localhost:8080/"
        },
        "id": "PhfXKPnTAcaq",
        "outputId": "c6ad7f39-cb2b-4f66-c791-e3df7f3deffd"
      },
      "outputs": [
        {
          "output_type": "stream",
          "name": "stdout",
          "text": [
            "Welcome to the Mad Libs game!\n",
            "Enter an adjective: dog\n",
            "Enter a noun: walk\n",
            "Enter a verb: fast\n",
            "Enter an adverb: faster\n",
            "\n",
            "Here's your Mad Libs story:\n",
            "Once upon a time, there was a dog walk who loved to fast faster. It was the most dog walk ever!\n"
          ]
        }
      ],
      "source": [
        "# Function to create a Mad Libs story\n",
        "def create_madlib():\n",
        "    print(\"Welcome to the Mad Libs game!\")\n",
        "    # Collecting user inputs\n",
        "    adjective = input(\"Enter an adjective: \")\n",
        "    noun = input(\"Enter a noun: \")\n",
        "    verb = input(\"Enter a verb: \")\n",
        "    adverb = input(\"Enter an adverb: \")\n",
        "\n",
        "    # Creating the story\n",
        "    story = f\"Once upon a time, there was a {adjective} {noun} who loved to {verb} {adverb}. It was the most {adjective} {noun} ever!\"\n",
        "\n",
        "    print(\"\\nHere's your Mad Libs story:\")\n",
        "    print(story)\n",
        "\n",
        "# Call the function to run the game\n",
        "create_madlib()\n"
      ]
    }
  ]
}