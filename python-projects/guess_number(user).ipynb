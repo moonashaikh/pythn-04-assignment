{
  "nbformat": 4,
  "nbformat_minor": 0,
  "metadata": {
    "colab": {
      "provenance": []
    },
    "kernelspec": {
      "name": "python3",
      "display_name": "Python 3"
    },
    "language_info": {
      "name": "python"
    }
  },
  "cells": [
    {
      "cell_type": "code",
      "execution_count": 1,
      "metadata": {
        "colab": {
          "base_uri": "https://localhost:8080/"
        },
        "id": "_BglQY_mJKce",
        "outputId": "2885307b-fea4-40ec-97e1-6abc988a5720"
      },
      "outputs": [
        {
          "output_type": "stream",
          "name": "stdout",
          "text": [
            "Think of a number between 1 and 100, and I will try to guess it.\n",
            "After each guess, tell me if my guess is too high, too low, or correct.\n",
            "Attempt 1: Is your number 12?\n",
            "Enter 'too high', 'too low', or 'correct': too high\n",
            "Attempt 2: Is your number 4?\n",
            "Enter 'too high', 'too low', or 'correct': correct\n",
            "Yay! I guessed your number in 2 attempts.\n"
          ]
        }
      ],
      "source": [
        "import random\n",
        "print(\"Think of a number between 1 and 100, and I will try to guess it.\")\n",
        "print(\"After each guess, tell me if my guess is too high, too low, or correct.\")\n",
        "def guess_number_game():\n",
        "    low = 1\n",
        "    high = 100\n",
        "    attempts = 0\n",
        "    feedback = ''\n",
        "\n",
        "    while feedback != 'correct':\n",
        "        guess = random.randint(low, high)\n",
        "        attempts += 1\n",
        "        print(f\"Attempt {attempts}: Is your number {guess}?\")\n",
        "        feedback = input(\"Enter 'too high', 'too low', or 'correct': \").lower()\n",
        "\n",
        "        if feedback == 'too high':\n",
        "            high = guess - 1\n",
        "        elif feedback == 'too low':\n",
        "            low = guess + 1\n",
        "        elif feedback != 'correct':\n",
        "            print(\"Invalid input. Please enter 'too high', 'too low', or 'correct'.\")\n",
        "\n",
        "    print(f\"Yay! I guessed your number in {attempts} attempts.\")\n",
        "\n",
        "# Start the game\n",
        "guess_number_game()\n"
      ]
    }
  ]
}