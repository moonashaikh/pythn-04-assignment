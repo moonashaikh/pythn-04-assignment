{
  "nbformat": 4,
  "nbformat_minor": 0,
  "metadata": {
    "colab": {
      "provenance": []
    },
    "kernelspec": {
      "name": "python3",
      "display_name": "Python 3"
    },
    "language_info": {
      "name": "python"
    }
  },
  "cells": [
    {
      "cell_type": "code",
      "execution_count": 5,
      "metadata": {
        "colab": {
          "base_uri": "https://localhost:8080/"
        },
        "id": "YpeGr7m1nakN",
        "outputId": "9e6b38a1-882a-498d-8220-f4aaf4045098"
      },
      "outputs": [
        {
          "output_type": "stream",
          "name": "stdout",
          "text": [
            "Please enter an element of the list or press enter to stop. 2\n",
            "Please enter an element of the list or press enter to stop. 3\n",
            "Please enter an element of the list or press enter to stop. 4\n",
            "Please enter an element of the list or press enter to stop. 5\n",
            "Please enter an element of the list or press enter to stop. 6\n",
            "Please enter an element of the list or press enter to stop. 7\n",
            "Please enter an element of the list or press enter to stop. 8\n",
            "Please enter an element of the list or press enter to stop. 9\n",
            "Please enter an element of the list or press enter to stop. \n",
            "9\n",
            "8\n",
            "7\n",
            "6\n",
            "5\n"
          ]
        }
      ],
      "source": [
        "MAX_LENGTH : int = 3\n",
        "\n",
        "def shorten(lst):\n",
        "    while len(lst) > MAX_LENGTH:\n",
        "        last_elem = lst.pop()\n",
        "        print(last_elem)\n",
        "\n",
        "# There is no need to edit code beyond this point\n",
        "\n",
        "def get_lst():\n",
        "    \"\"\"\n",
        "    Prompts the user to enter one element of the list at a time and returns the resulting list.\n",
        "    \"\"\"\n",
        "    lst = []\n",
        "    elem = input(\"Please enter an element of the list or press enter to stop. \")\n",
        "    while elem != \"\":\n",
        "        lst.append(elem)\n",
        "        elem = input(\"Please enter an element of the list or press enter to stop. \")\n",
        "    return lst\n",
        "\n",
        "def main():\n",
        "    lst = get_lst()\n",
        "    shorten(lst)\n",
        "\n",
        "\n",
        "if __name__ == '__main__':\n",
        "    main()\n",
        "\n",
        "\n"
      ]
    }
  ]
}