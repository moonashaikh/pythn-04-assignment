{
  "nbformat": 4,
  "nbformat_minor": 0,
  "metadata": {
    "colab": {
      "provenance": []
    },
    "kernelspec": {
      "name": "python3",
      "display_name": "Python 3"
    },
    "language_info": {
      "name": "python"
    }
  },
  "cells": [
    {
      "cell_type": "code",
      "execution_count": 2,
      "metadata": {
        "colab": {
          "base_uri": "https://localhost:8080/"
        },
        "id": "3AWd1nddiQBe",
        "outputId": "7f9945d4-6350-4024-c4a6-0be2b489945d"
      },
      "outputs": [
        {
          "output_type": "stream",
          "name": "stdout",
          "text": [
            "How many elements do you want to input? 2\n",
            "Enter element 1: 1\n",
            "Enter element 2: 2\n",
            "1\n"
          ]
        }
      ],
      "source": [
        "def get_first_element(lst):\n",
        "    # Print the first element of the list\n",
        "    print(lst[0])\n",
        "\n",
        "# Example usage\n",
        "lst = []\n",
        "n = int(input(\"How many elements do you want to input? \"))\n",
        "\n",
        "for i in range(n):\n",
        "    element = input(f\"Enter element {i+1}: \")\n",
        "    lst.append(element)\n",
        "\n",
        "# Now calling the function with the list lst\n",
        "get_first_element(lst)\n",
        "\n"
      ]
    }
  ]
}