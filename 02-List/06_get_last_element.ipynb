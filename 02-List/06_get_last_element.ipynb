{
  "nbformat": 4,
  "nbformat_minor": 0,
  "metadata": {
    "colab": {
      "provenance": []
    },
    "kernelspec": {
      "name": "python3",
      "display_name": "Python 3"
    },
    "language_info": {
      "name": "python"
    }
  },
  "cells": [
    {
      "cell_type": "code",
      "execution_count": 1,
      "metadata": {
        "colab": {
          "base_uri": "https://localhost:8080/"
        },
        "id": "wZhUNpzdkSI0",
        "outputId": "3e395e84-7901-4dd2-b3a8-450e178dd25d"
      },
      "outputs": [
        {
          "output_type": "stream",
          "name": "stdout",
          "text": [
            "How many elements do you want to input? 4\n",
            "Enter element 1: 1\n",
            "Enter element 2: 2\n",
            "Enter element 3: 3\n",
            "Enter element 4: 5\n",
            "5\n"
          ]
        }
      ],
      "source": [
        "#Fill out the function get_last_element(lst) which takes in a list lst as a parameter and\n",
        "#3prints the last element in the list. The list is guaranteed to be non-empty, but there are no guarantees on its length.\n",
        "\n",
        "def get_last_element(lst):\n",
        "    # Print the last element of the list\n",
        "    print(lst[-1])\n",
        "\n",
        "# Example usage\n",
        "lst = []\n",
        "n = int(input(\"How many elements do you want to input? \"))\n",
        "\n",
        "for i in range(n):\n",
        "    element = input(f\"Enter element {i+1}: \")\n",
        "    lst.append(element)\n",
        "\n",
        "# Now calling the function with the list lst\n",
        "get_last_element(lst)\n",
        "\n"
      ]
    }
  ]
}