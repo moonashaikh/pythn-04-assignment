{
  "nbformat": 4,
  "nbformat_minor": 0,
  "metadata": {
    "colab": {
      "provenance": []
    },
    "kernelspec": {
      "name": "python3",
      "display_name": "Python 3"
    },
    "language_info": {
      "name": "python"
    }
  },
  "cells": [
    {
      "cell_type": "code",
      "execution_count": 1,
      "metadata": {
        "colab": {
          "base_uri": "https://localhost:8080/"
        },
        "id": "qmJ6FIy_DySe",
        "outputId": "fd810c10-d479-4b85-cc0c-537b99c40714"
      },
      "outputs": [
        {
          "output_type": "stream",
          "name": "stdout",
          "text": [
            "What is your favorite animal? cow\n",
            "My favorite animal is also cow!\n"
          ]
        }
      ],
      "source": [
        "# Ask the user for their favorite animal\n",
        "favorite_animal = input(\"What is your favorite animal? \")\n",
        "\n",
        "# Respond with a message\n",
        "print(f\"My favorite animal is also {favorite_animal}!\")\n"
      ]
    }
  ]
}