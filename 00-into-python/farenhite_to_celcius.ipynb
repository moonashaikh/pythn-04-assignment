{
  "nbformat": 4,
  "nbformat_minor": 0,
  "metadata": {
    "colab": {
      "provenance": []
    },
    "kernelspec": {
      "name": "python3",
      "display_name": "Python 3"
    },
    "language_info": {
      "name": "python"
    }
  },
  "cells": [
    {
      "cell_type": "code",
      "execution_count": 1,
      "metadata": {
        "colab": {
          "base_uri": "https://localhost:8080/"
        },
        "id": "zQTB0sMpEYEC",
        "outputId": "e1660d73-4ef2-407f-ee76-67649c679764"
      },
      "outputs": [
        {
          "output_type": "stream",
          "name": "stdout",
          "text": [
            "Enter the temperature in Fahrenheit: 45\n",
            "The temperature in Celsius is: 7.22\n"
          ]
        }
      ],
      "source": [
        "# Prompt the user for the temperature in Fahrenheit\n",
        "fahrenheit = float(input(\"Enter the temperature in Fahrenheit: \"))\n",
        "\n",
        "# Convert Fahrenheit to Celsius\n",
        "celsius = (fahrenheit - 32) * 5.0 / 9.0\n",
        "\n",
        "# Output the temperature in Celsius\n",
        "print(f\"The temperature in Celsius is: {celsius:.2f}\")\n"
      ]
    }
  ]
}