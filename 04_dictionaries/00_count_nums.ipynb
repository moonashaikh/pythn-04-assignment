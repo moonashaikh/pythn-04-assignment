{
  "nbformat": 4,
  "nbformat_minor": 0,
  "metadata": {
    "colab": {
      "provenance": []
    },
    "kernelspec": {
      "name": "python3",
      "display_name": "Python 3"
    },
    "language_info": {
      "name": "python"
    }
  },
  "cells": [
    {
      "cell_type": "code",
      "execution_count": 1,
      "metadata": {
        "colab": {
          "base_uri": "https://localhost:8080/"
        },
        "id": "6pqddSSPzALE",
        "outputId": "8401d52c-972d-4f3b-fedd-4ae383adc8d1"
      },
      "outputs": [
        {
          "output_type": "stream",
          "name": "stdout",
          "text": [
            "1: 1\n",
            "2: 2\n",
            "3: 3\n",
            "4: 1\n",
            "5: 2\n",
            "6: 1\n"
          ]
        }
      ],
      "source": [
        "#This program counts the number of times each number appears in a list. It uses a dictionary to keep track of the information.\n",
        "def count_numbers(lst):\n",
        "    # Create an empty dictionary to store the count of each number\n",
        "    count_dict = {}\n",
        "\n",
        "    # Loop through each number in the list\n",
        "    for num in lst:\n",
        "        if num in count_dict:\n",
        "            # If the number is already in the dictionary, increment its count\n",
        "            count_dict[num] += 1\n",
        "        else:\n",
        "            # If the number is not in the dictionary, add it with a count of 1\n",
        "            count_dict[num] = 1\n",
        "\n",
        "    # Print the dictionary containing the counts\n",
        "    for num, count in count_dict.items():\n",
        "        print(f\"{num}: {count}\")\n",
        "\n",
        "# Example usage\n",
        "numbers_list = [1, 2, 2, 3, 3, 3, 4, 5, 5, 6]\n",
        "count_numbers(numbers_list)\n"
      ]
    }
  ]
}