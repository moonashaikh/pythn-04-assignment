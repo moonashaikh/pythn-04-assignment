{
  "nbformat": 4,
  "nbformat_minor": 0,
  "metadata": {
    "colab": {
      "provenance": []
    },
    "kernelspec": {
      "name": "python3",
      "display_name": "Python 3"
    },
    "language_info": {
      "name": "python"
    }
  },
  "cells": [
    {
      "cell_type": "code",
      "execution_count": null,
      "metadata": {
        "id": "87hAgMXo3bCa"
      },
      "outputs": [],
      "source": [
        "import hashlib\n",
        "\n",
        "# Dictionary to store website and the corresponding hashed password\n",
        "passwords = {}\n",
        "\n",
        "# Function to hash a password using SHA256\n",
        "def hash_password(password):\n",
        "    # Using SHA256 hash algorithm\n",
        "    return hashlib.sha256(password.encode()).hexdigest()\n",
        "\n",
        "# Function to add a website and password to the dictionary\n",
        "def add_website_password(website, password):\n",
        "    hashed_password = hash_password(password)\n",
        "    passwords[website] = hashed_password\n",
        "    print(f\"Password for {website} has been securely saved.\")\n",
        "\n",
        "# Function to check if the entered password matches the stored password for a website\n",
        "def check_password(website, entered_password):\n",
        "    if website in passwords:\n",
        "        hashed_entered_password = hash_password(entered_password)\n",
        "        if hashed_entered_password == passwords[website]:\n",
        "            print(\"Password match! Access granted.\")\n",
        "        else:\n",
        "            print(\"Incorrect password. Access denied.\")\n",
        "    else:\n",
        "        print(f\"No password found for {website}.\")\n",
        "\n",
        "# Example Usage\n",
        "def main():\n",
        "    while True:\n",
        "        print(\"\\nMenu:\")\n",
        "        print(\"1. Add website and password\")\n",
        "        print(\"2. Check password for a website\")\n",
        "        print(\"3. Exit\")\n",
        "\n",
        "        choice = input(\"Enter your choice (1-3): \")\n",
        "\n",
        "        if choice == '1':\n",
        "            website = input(\"Enter website name: \")\n",
        "            password = input(\"Enter password: \")\n",
        "            add_website_password(website, password)\n",
        "        elif choice == '2':\n",
        "            website = input(\"Enter website name: \")\n",
        "            entered_password = input(\"Enter your password: \")\n",
        "            check_password(website, entered_password)\n",
        "        elif choice == '3':\n",
        "            print(\"Exiting program.\")\n",
        "            break\n",
        "        else:\n",
        "            print(\"Invalid choice, please try again.\")\n",
        "\n",
        "if __name__ == \"__main__\":\n",
        "    main()\n"
      ]
    }
  ]
}